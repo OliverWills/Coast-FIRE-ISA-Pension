{
 "cells": [
  {
   "cell_type": "code",
   "execution_count": null,
   "metadata": {},
   "outputs": [],
   "source": [
    "import numpy as np"
   ]
  },
  {
   "cell_type": "code",
   "execution_count": null,
   "metadata": {},
   "outputs": [],
   "source": [
    "# Variables\n",
    "expenses = 60000\n",
    "pen_swr = 0.04\n",
    "isa_swr = 0.08\n",
    "growth=0.07\n",
    "inflation=0.03\n",
    "age=34\n",
    "retirement_age=67\n",
    "income=140000\n",
    "P2=100000 #Pension pot current balance\n",
    "P3=15000 #ISA pot current balance"
   ]
  },
  {
   "cell_type": "code",
   "execution_count": null,
   "metadata": {},
   "outputs": [],
   "source": [
    "#Calculate tax rate\n",
    "net_cash = income - expenses\n",
    "isa_cont = 12000\n",
    "tax = isa_cont*2/3\n",
    "pen_cont = net_cash - tax - isa_cont\n",
    "print(net_cash)\n",
    "print(pen_cont)\n",
    "\n",
    "#Calculate savings rate\n",
    "PMT3=income-expenses #Total available for contribution\n",
    "savings_rate=100*(PMT3)/income\n",
    "print(\"Your savings rate is {:.1f}%\\n\".format(savings_rate))\n",
    "\n",
    "# Calculate target values\n",
    "A1 = expenses/pen_swr #Pension target\n",
    "A2 = expenses/isa_swr #ISA target\n",
    "r = growth - inflation\n",
    "t1=retirement_age-age\n",
    "print(\"Your target is to have £{:,.2f} in your ISA at FIRE and £{:,.2f} in your pension at retirement\\n\".format(A2,A1))\n",
    "\n",
    "#Find ISA contribution\n",
    "a=r*A2*P2\n",
    "b=r*A1*A2\n",
    "c=(1+r)**t1\n",
    "d=b/c\n",
    "e=A2*PMT3*.6\n",
    "f=PMT3*P3*.6\n",
    "g=A1/c\n",
    "PMT2=(a-d+e-f)/(A2-P3-P2+g)\n",
    "isa_cont_monthly=PMT2/12\n",
    "pct_income_isa_cont=100*PMT2/income\n",
    "print(\"Optimal annual ISA contributions:\\n {:.1f}% of income\\n £{:,.2f} per annum\\n £{:,.2f} per month\\n\".format(pct_income_isa_cont,PMT2,isa_cont_monthly))\n",
    "\n",
    "#Find pen cont\n",
    "tax = PMT2/1.5\n",
    "PMT1=net_cash-PMT2-tax\n",
    "pen_cont_monthly=PMT1/12\n",
    "pct_income_pen_cont=100*PMT1/income\n",
    "print(\"Optimal pension contributions:\\n {:.1f}% of annual income\\n £{:,.2f} per annum\\n £{:,.2f} per month\\n\".format(pct_income_pen_cont,PMT1,pen_cont_monthly))\n",
    "\n",
    "#Get years until fire from ISA contributions\n",
    "t2=np.log((r*A2+PMT2)/(r*P3+PMT2))/np.log(1+r)\n",
    "print(\"You're {:.1f} years from FIRE!\\n\".format(t2))\n",
    "\n",
    "#Get years until fire from pension contributions\n",
    "a=(1+r)**t1\n",
    "a=r*A1/a\n",
    "a=r*P2+PMT1-a\n",
    "a=PMT1/a\n",
    "a=np.log(a)\n",
    "a=a/np.log(1+r)\n",
    "print(\"You're {:.1f} years from FIRE!\\n\".format(a))\n",
    "\n",
    "#Check isa and pension target @ fire\n",
    "isa_target=(PMT2*((((1+r)**t2)-1)/r))+P3*((1+r)**t2)\n",
    "pen_target=(PMT1*((((1+r)**t2)-1)/r))+P2*((1+r)**t2)\n",
    "print(\"You should have £{:,.2f} in your ISA and £{:,.2f} in your pension at FIRE\\n\".format(isa_target,pen_target))\n",
    "\n",
    "#Get current FIRE number\n",
    "fire_number=A1/((1+r)**t1)\n",
    "net_worth=P2+P3\n",
    "pct_close_to_fire=100*net_worth/fire_number\n",
    "print(\"Your current FIRE number is £{:,.2f} and your current net worth is £{:,.2f} meaning you are {:,.0f}% towards FIRE!\".format(fire_number,net_worth,pct_close_to_fire))"
   ]
  },
  {
   "cell_type": "code",
   "execution_count": null,
   "metadata": {},
   "outputs": [],
   "source": [
    "print(\"ISA Contributions £{:,.2f}\".format(PMT2))\n",
    "print(\"Pension Contributions £{:,.2f}\".format(PMT1))\n",
    "PMT4=PMT1+PMT2\n",
    "print(\"Total Contributions £{:,.2f}\".format(PMT4))\n",
    "print(\"Total available cash £{:,.2f}\".format(PMT3))\n",
    "print(\"Income £{:,.2f}\".format(income))\n",
    "tax = income - PMT3\n",
    "print(\"Income less available cash £{:,.2f}\".format(tax))\n",
    "tax = PMT2/1.5\n",
    "print(\"Tax in ISA contributions £{:,.2f}\".format(tax))\n",
    "pmnts_total=tax+PMT1+PMT2\n",
    "print(\"Total payments £{:,.2f}\".format(pmnts_total))"
   ]
  }
 ],
 "metadata": {
  "kernelspec": {
   "display_name": "base",
   "language": "python",
   "name": "python3"
  },
  "language_info": {
   "name": "python",
   "version": "3.7.7"
  },
  "orig_nbformat": 4,
  "vscode": {
   "interpreter": {
    "hash": "f73f76fe93a1ff4f01c0923f190a0d642c341d47608eabc6c65e0ba867f37f5d"
   }
  }
 },
 "nbformat": 4,
 "nbformat_minor": 2
}
